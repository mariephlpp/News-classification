{
 "cells": [
  {
   "cell_type": "markdown",
   "id": "5e799774",
   "metadata": {},
   "source": [
    "# BERT"
   ]
  },
  {
   "cell_type": "markdown",
   "id": "000951b0",
   "metadata": {},
   "source": [
    "## Deep learning project"
   ]
  },
  {
   "cell_type": "markdown",
   "id": "ed622b05",
   "metadata": {},
   "source": [
    "## Marie Philippe & Claire Serraz - M2 D3S "
   ]
  },
  {
   "cell_type": "markdown",
   "id": "f5e42ab7",
   "metadata": {},
   "source": [
    "# 1. Libraries"
   ]
  },
  {
   "cell_type": "code",
   "execution_count": 1,
   "id": "be7ba336",
   "metadata": {},
   "outputs": [],
   "source": [
    "import pandas as pd\n",
    "import numpy as np\n",
    "import os\n",
    "import torch \n",
    "from transformers import BertTokenizer\n",
    "from transformers import BertModel\n",
    "from tqdm import tqdm "
   ]
  },
  {
   "cell_type": "markdown",
   "id": "90816180",
   "metadata": {},
   "source": [
    "# 2. Import data"
   ]
  },
  {
   "cell_type": "code",
   "execution_count": 2,
   "id": "bb479ef3",
   "metadata": {},
   "outputs": [],
   "source": [
    "# Choose the path\n",
    "\n",
    "# Marie\n",
    "os.chdir(\"/Users/marie/Desktop/Cours/S1/DL/Project/Data\")"
   ]
  },
  {
   "cell_type": "code",
   "execution_count": 3,
   "id": "6f27d3fa",
   "metadata": {},
   "outputs": [],
   "source": [
    "data=pd.read_csv(\"data.csv\")"
   ]
  },
  {
   "cell_type": "code",
   "execution_count": 4,
   "id": "2fc384f4",
   "metadata": {},
   "outputs": [
    {
     "data": {
      "text/html": [
       "<div>\n",
       "<style scoped>\n",
       "    .dataframe tbody tr th:only-of-type {\n",
       "        vertical-align: middle;\n",
       "    }\n",
       "\n",
       "    .dataframe tbody tr th {\n",
       "        vertical-align: top;\n",
       "    }\n",
       "\n",
       "    .dataframe thead th {\n",
       "        text-align: right;\n",
       "    }\n",
       "</style>\n",
       "<table border=\"1\" class=\"dataframe\">\n",
       "  <thead>\n",
       "    <tr style=\"text-align: right;\">\n",
       "      <th></th>\n",
       "      <th>title</th>\n",
       "      <th>text</th>\n",
       "      <th>subject</th>\n",
       "      <th>date</th>\n",
       "      <th>class</th>\n",
       "    </tr>\n",
       "  </thead>\n",
       "  <tbody>\n",
       "    <tr>\n",
       "      <th>0</th>\n",
       "      <td>donald trump sends embarrassing new year eve m...</td>\n",
       "      <td>donald trump wish american happy new year leav...</td>\n",
       "      <td>News</td>\n",
       "      <td>December 31, 2017</td>\n",
       "      <td>fake</td>\n",
       "    </tr>\n",
       "    <tr>\n",
       "      <th>1</th>\n",
       "      <td>drunk bragging trump staffer started russian c...</td>\n",
       "      <td>house intelligence committee chairman devin nu...</td>\n",
       "      <td>News</td>\n",
       "      <td>December 31, 2017</td>\n",
       "      <td>fake</td>\n",
       "    </tr>\n",
       "    <tr>\n",
       "      <th>2</th>\n",
       "      <td>sheriff david clarke becomes internet joke thr...</td>\n",
       "      <td>friday revealed former milwaukee sheriff david...</td>\n",
       "      <td>News</td>\n",
       "      <td>December 30, 2017</td>\n",
       "      <td>fake</td>\n",
       "    </tr>\n",
       "    <tr>\n",
       "      <th>3</th>\n",
       "      <td>trump obsessed even obama name coded website i...</td>\n",
       "      <td>christmas day donald trump announced would bac...</td>\n",
       "      <td>News</td>\n",
       "      <td>December 29, 2017</td>\n",
       "      <td>fake</td>\n",
       "    </tr>\n",
       "    <tr>\n",
       "      <th>4</th>\n",
       "      <td>pope francis called donald trump christmas speech</td>\n",
       "      <td>pope francis used annual christmas day message...</td>\n",
       "      <td>News</td>\n",
       "      <td>December 25, 2017</td>\n",
       "      <td>fake</td>\n",
       "    </tr>\n",
       "  </tbody>\n",
       "</table>\n",
       "</div>"
      ],
      "text/plain": [
       "                                               title  \\\n",
       "0  donald trump sends embarrassing new year eve m...   \n",
       "1  drunk bragging trump staffer started russian c...   \n",
       "2  sheriff david clarke becomes internet joke thr...   \n",
       "3  trump obsessed even obama name coded website i...   \n",
       "4  pope francis called donald trump christmas speech   \n",
       "\n",
       "                                                text subject  \\\n",
       "0  donald trump wish american happy new year leav...    News   \n",
       "1  house intelligence committee chairman devin nu...    News   \n",
       "2  friday revealed former milwaukee sheriff david...    News   \n",
       "3  christmas day donald trump announced would bac...    News   \n",
       "4  pope francis used annual christmas day message...    News   \n",
       "\n",
       "                date class  \n",
       "0  December 31, 2017  fake  \n",
       "1  December 31, 2017  fake  \n",
       "2  December 30, 2017  fake  \n",
       "3  December 29, 2017  fake  \n",
       "4  December 25, 2017  fake  "
      ]
     },
     "execution_count": 4,
     "metadata": {},
     "output_type": "execute_result"
    }
   ],
   "source": [
    "data.head()"
   ]
  },
  {
   "cell_type": "code",
   "execution_count": 5,
   "id": "8fea2068",
   "metadata": {},
   "outputs": [
    {
     "data": {
      "text/plain": [
       "(44898, 5)"
      ]
     },
     "execution_count": 5,
     "metadata": {},
     "output_type": "execute_result"
    }
   ],
   "source": [
    "data.shape"
   ]
  },
  {
   "cell_type": "markdown",
   "id": "2169dd80",
   "metadata": {},
   "source": [
    "# 3. Prepare dataset for BERT"
   ]
  },
  {
   "cell_type": "code",
   "execution_count": 6,
   "id": "a8c23334",
   "metadata": {},
   "outputs": [],
   "source": [
    "data = data.sample(5000,random_state=1)"
   ]
  },
  {
   "cell_type": "code",
   "execution_count": 7,
   "id": "a5bec2ab",
   "metadata": {},
   "outputs": [
    {
     "data": {
      "text/html": [
       "<div>\n",
       "<style scoped>\n",
       "    .dataframe tbody tr th:only-of-type {\n",
       "        vertical-align: middle;\n",
       "    }\n",
       "\n",
       "    .dataframe tbody tr th {\n",
       "        vertical-align: top;\n",
       "    }\n",
       "\n",
       "    .dataframe thead th {\n",
       "        text-align: right;\n",
       "    }\n",
       "</style>\n",
       "<table border=\"1\" class=\"dataframe\">\n",
       "  <thead>\n",
       "    <tr style=\"text-align: right;\">\n",
       "      <th></th>\n",
       "      <th>title</th>\n",
       "      <th>text</th>\n",
       "      <th>subject</th>\n",
       "      <th>date</th>\n",
       "      <th>class</th>\n",
       "    </tr>\n",
       "  </thead>\n",
       "  <tbody>\n",
       "    <tr>\n",
       "      <th>4528</th>\n",
       "      <td>trump call racist policy forced every state</td>\n",
       "      <td>donald trump calling one controversial raciall...</td>\n",
       "      <td>News</td>\n",
       "      <td>September 21, 2016</td>\n",
       "      <td>fake</td>\n",
       "    </tr>\n",
       "    <tr>\n",
       "      <th>31727</th>\n",
       "      <td>republican ex-defense secretary cohen back hil...</td>\n",
       "      <td>washington reuters former republican u defense...</td>\n",
       "      <td>politicsNews</td>\n",
       "      <td>September 7, 2016</td>\n",
       "      <td>true</td>\n",
       "    </tr>\n",
       "    <tr>\n",
       "      <th>10937</th>\n",
       "      <td>teacher quits job 5th 6th grade muslim student...</td>\n",
       "      <td>never young commit jihad teacher primary schoo...</td>\n",
       "      <td>politics</td>\n",
       "      <td>May 9, 2017</td>\n",
       "      <td>fake</td>\n",
       "    </tr>\n",
       "    <tr>\n",
       "      <th>13470</th>\n",
       "      <td>laura ingraham rip press crowd go wild job video</td>\n",
       "      <td>laura ingraham reminds never trump people bett...</td>\n",
       "      <td>politics</td>\n",
       "      <td>Jul 21, 2016</td>\n",
       "      <td>fake</td>\n",
       "    </tr>\n",
       "    <tr>\n",
       "      <th>40814</th>\n",
       "      <td>germany merkel suffers state vote setback coal...</td>\n",
       "      <td>berlin/hanover reuters germany social democrat...</td>\n",
       "      <td>worldnews</td>\n",
       "      <td>October 14, 2017</td>\n",
       "      <td>true</td>\n",
       "    </tr>\n",
       "    <tr>\n",
       "      <th>...</th>\n",
       "      <td>...</td>\n",
       "      <td>...</td>\n",
       "      <td>...</td>\n",
       "      <td>...</td>\n",
       "      <td>...</td>\n",
       "    </tr>\n",
       "    <tr>\n",
       "      <th>30035</th>\n",
       "      <td>trump leaf open possible taiwan meet question ...</td>\n",
       "      <td>palm beach fla reuters u president-elect donal...</td>\n",
       "      <td>politicsNews</td>\n",
       "      <td>January 1, 2017</td>\n",
       "      <td>true</td>\n",
       "    </tr>\n",
       "    <tr>\n",
       "      <th>20551</th>\n",
       "      <td>leading n carolina newspaper girl need attempt...</td>\n",
       "      <td>leftist agenda action blurring line sexuality ...</td>\n",
       "      <td>left-news</td>\n",
       "      <td>May 19, 2016</td>\n",
       "      <td>fake</td>\n",
       "    </tr>\n",
       "    <tr>\n",
       "      <th>20602</th>\n",
       "      <td>employee say facebook suppressing conservative...</td>\n",
       "      <td>know firsthand feel like victim facebook four ...</td>\n",
       "      <td>left-news</td>\n",
       "      <td>May 9, 2016</td>\n",
       "      <td>fake</td>\n",
       "    </tr>\n",
       "    <tr>\n",
       "      <th>31301</th>\n",
       "      <td>u policy change cuba tough undo official</td>\n",
       "      <td>washington reuters difficult future u administ...</td>\n",
       "      <td>politicsNews</td>\n",
       "      <td>October 14, 2016</td>\n",
       "      <td>true</td>\n",
       "    </tr>\n",
       "    <tr>\n",
       "      <th>12533</th>\n",
       "      <td>campaigning drunk video showing hillary dancin...</td>\n",
       "      <td>hillary clinton reportedly drunk rally new jer...</td>\n",
       "      <td>politics</td>\n",
       "      <td>Nov 1, 2016</td>\n",
       "      <td>fake</td>\n",
       "    </tr>\n",
       "  </tbody>\n",
       "</table>\n",
       "<p>5000 rows × 5 columns</p>\n",
       "</div>"
      ],
      "text/plain": [
       "                                                   title  \\\n",
       "4528         trump call racist policy forced every state   \n",
       "31727  republican ex-defense secretary cohen back hil...   \n",
       "10937  teacher quits job 5th 6th grade muslim student...   \n",
       "13470   laura ingraham rip press crowd go wild job video   \n",
       "40814  germany merkel suffers state vote setback coal...   \n",
       "...                                                  ...   \n",
       "30035  trump leaf open possible taiwan meet question ...   \n",
       "20551  leading n carolina newspaper girl need attempt...   \n",
       "20602  employee say facebook suppressing conservative...   \n",
       "31301           u policy change cuba tough undo official   \n",
       "12533  campaigning drunk video showing hillary dancin...   \n",
       "\n",
       "                                                    text       subject  \\\n",
       "4528   donald trump calling one controversial raciall...          News   \n",
       "31727  washington reuters former republican u defense...  politicsNews   \n",
       "10937  never young commit jihad teacher primary schoo...      politics   \n",
       "13470  laura ingraham reminds never trump people bett...      politics   \n",
       "40814  berlin/hanover reuters germany social democrat...     worldnews   \n",
       "...                                                  ...           ...   \n",
       "30035  palm beach fla reuters u president-elect donal...  politicsNews   \n",
       "20551  leftist agenda action blurring line sexuality ...     left-news   \n",
       "20602  know firsthand feel like victim facebook four ...     left-news   \n",
       "31301  washington reuters difficult future u administ...  politicsNews   \n",
       "12533  hillary clinton reportedly drunk rally new jer...      politics   \n",
       "\n",
       "                     date class  \n",
       "4528   September 21, 2016  fake  \n",
       "31727  September 7, 2016   true  \n",
       "10937         May 9, 2017  fake  \n",
       "13470        Jul 21, 2016  fake  \n",
       "40814   October 14, 2017   true  \n",
       "...                   ...   ...  \n",
       "30035    January 1, 2017   true  \n",
       "20551        May 19, 2016  fake  \n",
       "20602         May 9, 2016  fake  \n",
       "31301   October 14, 2016   true  \n",
       "12533         Nov 1, 2016  fake  \n",
       "\n",
       "[5000 rows x 5 columns]"
      ]
     },
     "execution_count": 7,
     "metadata": {},
     "output_type": "execute_result"
    }
   ],
   "source": [
    "data"
   ]
  },
  {
   "cell_type": "code",
   "execution_count": 8,
   "id": "c07fd435",
   "metadata": {},
   "outputs": [
    {
     "data": {
      "text/html": [
       "<div>\n",
       "<style scoped>\n",
       "    .dataframe tbody tr th:only-of-type {\n",
       "        vertical-align: middle;\n",
       "    }\n",
       "\n",
       "    .dataframe tbody tr th {\n",
       "        vertical-align: top;\n",
       "    }\n",
       "\n",
       "    .dataframe thead th {\n",
       "        text-align: right;\n",
       "    }\n",
       "</style>\n",
       "<table border=\"1\" class=\"dataframe\">\n",
       "  <thead>\n",
       "    <tr style=\"text-align: right;\">\n",
       "      <th></th>\n",
       "      <th>title</th>\n",
       "      <th>text</th>\n",
       "      <th>subject</th>\n",
       "      <th>date</th>\n",
       "      <th>class</th>\n",
       "    </tr>\n",
       "  </thead>\n",
       "  <tbody>\n",
       "    <tr>\n",
       "      <th>0</th>\n",
       "      <td>trump call racist policy forced every state</td>\n",
       "      <td>donald trump calling one controversial raciall...</td>\n",
       "      <td>News</td>\n",
       "      <td>September 21, 2016</td>\n",
       "      <td>fake</td>\n",
       "    </tr>\n",
       "    <tr>\n",
       "      <th>1</th>\n",
       "      <td>republican ex-defense secretary cohen back hil...</td>\n",
       "      <td>washington reuters former republican u defense...</td>\n",
       "      <td>politicsNews</td>\n",
       "      <td>September 7, 2016</td>\n",
       "      <td>true</td>\n",
       "    </tr>\n",
       "    <tr>\n",
       "      <th>2</th>\n",
       "      <td>teacher quits job 5th 6th grade muslim student...</td>\n",
       "      <td>never young commit jihad teacher primary schoo...</td>\n",
       "      <td>politics</td>\n",
       "      <td>May 9, 2017</td>\n",
       "      <td>fake</td>\n",
       "    </tr>\n",
       "    <tr>\n",
       "      <th>3</th>\n",
       "      <td>laura ingraham rip press crowd go wild job video</td>\n",
       "      <td>laura ingraham reminds never trump people bett...</td>\n",
       "      <td>politics</td>\n",
       "      <td>Jul 21, 2016</td>\n",
       "      <td>fake</td>\n",
       "    </tr>\n",
       "    <tr>\n",
       "      <th>4</th>\n",
       "      <td>germany merkel suffers state vote setback coal...</td>\n",
       "      <td>berlin/hanover reuters germany social democrat...</td>\n",
       "      <td>worldnews</td>\n",
       "      <td>October 14, 2017</td>\n",
       "      <td>true</td>\n",
       "    </tr>\n",
       "    <tr>\n",
       "      <th>...</th>\n",
       "      <td>...</td>\n",
       "      <td>...</td>\n",
       "      <td>...</td>\n",
       "      <td>...</td>\n",
       "      <td>...</td>\n",
       "    </tr>\n",
       "    <tr>\n",
       "      <th>4995</th>\n",
       "      <td>trump leaf open possible taiwan meet question ...</td>\n",
       "      <td>palm beach fla reuters u president-elect donal...</td>\n",
       "      <td>politicsNews</td>\n",
       "      <td>January 1, 2017</td>\n",
       "      <td>true</td>\n",
       "    </tr>\n",
       "    <tr>\n",
       "      <th>4996</th>\n",
       "      <td>leading n carolina newspaper girl need attempt...</td>\n",
       "      <td>leftist agenda action blurring line sexuality ...</td>\n",
       "      <td>left-news</td>\n",
       "      <td>May 19, 2016</td>\n",
       "      <td>fake</td>\n",
       "    </tr>\n",
       "    <tr>\n",
       "      <th>4997</th>\n",
       "      <td>employee say facebook suppressing conservative...</td>\n",
       "      <td>know firsthand feel like victim facebook four ...</td>\n",
       "      <td>left-news</td>\n",
       "      <td>May 9, 2016</td>\n",
       "      <td>fake</td>\n",
       "    </tr>\n",
       "    <tr>\n",
       "      <th>4998</th>\n",
       "      <td>u policy change cuba tough undo official</td>\n",
       "      <td>washington reuters difficult future u administ...</td>\n",
       "      <td>politicsNews</td>\n",
       "      <td>October 14, 2016</td>\n",
       "      <td>true</td>\n",
       "    </tr>\n",
       "    <tr>\n",
       "      <th>4999</th>\n",
       "      <td>campaigning drunk video showing hillary dancin...</td>\n",
       "      <td>hillary clinton reportedly drunk rally new jer...</td>\n",
       "      <td>politics</td>\n",
       "      <td>Nov 1, 2016</td>\n",
       "      <td>fake</td>\n",
       "    </tr>\n",
       "  </tbody>\n",
       "</table>\n",
       "<p>5000 rows × 5 columns</p>\n",
       "</div>"
      ],
      "text/plain": [
       "                                                  title  \\\n",
       "0           trump call racist policy forced every state   \n",
       "1     republican ex-defense secretary cohen back hil...   \n",
       "2     teacher quits job 5th 6th grade muslim student...   \n",
       "3      laura ingraham rip press crowd go wild job video   \n",
       "4     germany merkel suffers state vote setback coal...   \n",
       "...                                                 ...   \n",
       "4995  trump leaf open possible taiwan meet question ...   \n",
       "4996  leading n carolina newspaper girl need attempt...   \n",
       "4997  employee say facebook suppressing conservative...   \n",
       "4998           u policy change cuba tough undo official   \n",
       "4999  campaigning drunk video showing hillary dancin...   \n",
       "\n",
       "                                                   text       subject  \\\n",
       "0     donald trump calling one controversial raciall...          News   \n",
       "1     washington reuters former republican u defense...  politicsNews   \n",
       "2     never young commit jihad teacher primary schoo...      politics   \n",
       "3     laura ingraham reminds never trump people bett...      politics   \n",
       "4     berlin/hanover reuters germany social democrat...     worldnews   \n",
       "...                                                 ...           ...   \n",
       "4995  palm beach fla reuters u president-elect donal...  politicsNews   \n",
       "4996  leftist agenda action blurring line sexuality ...     left-news   \n",
       "4997  know firsthand feel like victim facebook four ...     left-news   \n",
       "4998  washington reuters difficult future u administ...  politicsNews   \n",
       "4999  hillary clinton reportedly drunk rally new jer...      politics   \n",
       "\n",
       "                    date class  \n",
       "0     September 21, 2016  fake  \n",
       "1     September 7, 2016   true  \n",
       "2            May 9, 2017  fake  \n",
       "3           Jul 21, 2016  fake  \n",
       "4      October 14, 2017   true  \n",
       "...                  ...   ...  \n",
       "4995    January 1, 2017   true  \n",
       "4996        May 19, 2016  fake  \n",
       "4997         May 9, 2016  fake  \n",
       "4998   October 14, 2016   true  \n",
       "4999         Nov 1, 2016  fake  \n",
       "\n",
       "[5000 rows x 5 columns]"
      ]
     },
     "execution_count": 8,
     "metadata": {},
     "output_type": "execute_result"
    }
   ],
   "source": [
    "df = data.reset_index(drop=True)\n",
    "df"
   ]
  },
  {
   "cell_type": "code",
   "execution_count": 9,
   "id": "6b64d2c7",
   "metadata": {},
   "outputs": [],
   "source": [
    "df = df.astype({\"text\": str})"
   ]
  },
  {
   "cell_type": "code",
   "execution_count": 10,
   "id": "46bea4b7",
   "metadata": {},
   "outputs": [
    {
     "data": {
      "text/plain": [
       "class\n",
       "fake    2547\n",
       "true    2453\n",
       "dtype: int64"
      ]
     },
     "execution_count": 10,
     "metadata": {},
     "output_type": "execute_result"
    }
   ],
   "source": [
    "df.groupby([\"class\"]).size()"
   ]
  },
  {
   "cell_type": "code",
   "execution_count": 11,
   "id": "9f9914b0",
   "metadata": {},
   "outputs": [
    {
     "data": {
      "text/html": [
       "<div>\n",
       "<style scoped>\n",
       "    .dataframe tbody tr th:only-of-type {\n",
       "        vertical-align: middle;\n",
       "    }\n",
       "\n",
       "    .dataframe tbody tr th {\n",
       "        vertical-align: top;\n",
       "    }\n",
       "\n",
       "    .dataframe thead th {\n",
       "        text-align: right;\n",
       "    }\n",
       "</style>\n",
       "<table border=\"1\" class=\"dataframe\">\n",
       "  <thead>\n",
       "    <tr style=\"text-align: right;\">\n",
       "      <th></th>\n",
       "      <th>text</th>\n",
       "      <th>class</th>\n",
       "    </tr>\n",
       "  </thead>\n",
       "  <tbody>\n",
       "    <tr>\n",
       "      <th>0</th>\n",
       "      <td>donald trump calling one controversial raciall...</td>\n",
       "      <td>fake</td>\n",
       "    </tr>\n",
       "    <tr>\n",
       "      <th>1</th>\n",
       "      <td>washington reuters former republican u defense...</td>\n",
       "      <td>true</td>\n",
       "    </tr>\n",
       "    <tr>\n",
       "      <th>2</th>\n",
       "      <td>never young commit jihad teacher primary schoo...</td>\n",
       "      <td>fake</td>\n",
       "    </tr>\n",
       "    <tr>\n",
       "      <th>3</th>\n",
       "      <td>laura ingraham reminds never trump people bett...</td>\n",
       "      <td>fake</td>\n",
       "    </tr>\n",
       "    <tr>\n",
       "      <th>4</th>\n",
       "      <td>berlin/hanover reuters germany social democrat...</td>\n",
       "      <td>true</td>\n",
       "    </tr>\n",
       "  </tbody>\n",
       "</table>\n",
       "</div>"
      ],
      "text/plain": [
       "                                                text class\n",
       "0  donald trump calling one controversial raciall...  fake\n",
       "1  washington reuters former republican u defense...  true\n",
       "2  never young commit jihad teacher primary schoo...  fake\n",
       "3  laura ingraham reminds never trump people bett...  fake\n",
       "4  berlin/hanover reuters germany social democrat...  true"
      ]
     },
     "execution_count": 11,
     "metadata": {},
     "output_type": "execute_result"
    }
   ],
   "source": [
    "df = df[['text','class']]\n",
    "df.head()"
   ]
  },
  {
   "cell_type": "code",
   "execution_count": 12,
   "id": "1b2320e2",
   "metadata": {},
   "outputs": [],
   "source": [
    "# Define the train, validation and test data\n",
    "df_train, df_valid, df_test = np.split(df.sample(frac=1,random_state=10),[int(.8*len(df)), int(.9*len(df))])"
   ]
  },
  {
   "cell_type": "code",
   "execution_count": 13,
   "id": "071e3e88",
   "metadata": {},
   "outputs": [
    {
     "data": {
      "text/plain": [
       "4000"
      ]
     },
     "execution_count": 13,
     "metadata": {},
     "output_type": "execute_result"
    }
   ],
   "source": [
    "# Get number of rows of each dataset\n",
    "len(df_train)"
   ]
  },
  {
   "cell_type": "code",
   "execution_count": 14,
   "id": "5f5ab75d",
   "metadata": {},
   "outputs": [
    {
     "data": {
      "text/plain": [
       "class\n",
       "fake    2043\n",
       "true    1957\n",
       "dtype: int64"
      ]
     },
     "execution_count": 14,
     "metadata": {},
     "output_type": "execute_result"
    }
   ],
   "source": [
    "df_train.groupby([\"class\"]).size()"
   ]
  },
  {
   "cell_type": "code",
   "execution_count": 15,
   "id": "f4103c5a",
   "metadata": {},
   "outputs": [
    {
     "data": {
      "text/plain": [
       "500"
      ]
     },
     "execution_count": 15,
     "metadata": {},
     "output_type": "execute_result"
    }
   ],
   "source": [
    "len(df_valid)"
   ]
  },
  {
   "cell_type": "code",
   "execution_count": 16,
   "id": "14a22f07",
   "metadata": {},
   "outputs": [
    {
     "data": {
      "text/plain": [
       "class\n",
       "fake    258\n",
       "true    242\n",
       "dtype: int64"
      ]
     },
     "execution_count": 16,
     "metadata": {},
     "output_type": "execute_result"
    }
   ],
   "source": [
    "df_valid.groupby([\"class\"]).size()"
   ]
  },
  {
   "cell_type": "code",
   "execution_count": 17,
   "id": "27206e9d",
   "metadata": {},
   "outputs": [
    {
     "data": {
      "text/plain": [
       "500"
      ]
     },
     "execution_count": 17,
     "metadata": {},
     "output_type": "execute_result"
    }
   ],
   "source": [
    "len(df_test)"
   ]
  },
  {
   "cell_type": "code",
   "execution_count": 18,
   "id": "904feae1",
   "metadata": {},
   "outputs": [
    {
     "data": {
      "text/plain": [
       "class\n",
       "fake    246\n",
       "true    254\n",
       "dtype: int64"
      ]
     },
     "execution_count": 18,
     "metadata": {},
     "output_type": "execute_result"
    }
   ],
   "source": [
    "df_test.groupby([\"class\"]).size()"
   ]
  },
  {
   "cell_type": "markdown",
   "id": "6356c381",
   "metadata": {},
   "source": [
    "# 4. Custom dataset"
   ]
  },
  {
   "cell_type": "code",
   "execution_count": 19,
   "id": "3d4d307e",
   "metadata": {},
   "outputs": [],
   "source": [
    "# Define tokenizer and length\n",
    "tokenizer = BertTokenizer.from_pretrained('bert-base-cased')\n",
    "max_len   = tokenizer.max_model_input_sizes['bert-base-uncased']"
   ]
  },
  {
   "cell_type": "code",
   "execution_count": 20,
   "id": "f32b2306",
   "metadata": {},
   "outputs": [],
   "source": [
    "# Dictionnary of the labels\n",
    "labels = {\n",
    "    'fake':0,\n",
    "    'true':1,\n",
    "}"
   ]
  },
  {
   "cell_type": "code",
   "execution_count": 21,
   "id": "78f7ba31",
   "metadata": {},
   "outputs": [],
   "source": [
    "# Custom dataset\n",
    "\n",
    "class Dataset(torch.utils.data.Dataset): \n",
    "    \n",
    "    def __init__(self,df): \n",
    "        '''\n",
    "        Get labels and tokenization of the text\n",
    "        '''\n",
    "        self.labels = [labels[label] for label in df[\"class\"]] \n",
    "        self.texts = [tokenizer(text, padding='max_length', max_length=max_len, \n",
    "                                truncation=True,return_tensors=\"pt\") for text in df[\"text\"]] \n",
    "    \n",
    "    def classes(self):\n",
    "        return self.labels\n",
    "    \n",
    "    def __len__(self): \n",
    "        return len(self.labels)\n",
    "    \n",
    "    def get_batch_labels(self,indx): \n",
    "        '''\n",
    "        Batch of labels\n",
    "        '''\n",
    "        return np.array(self.labels[indx])\n",
    "\n",
    "    def get_batch_texts(self,indx): \n",
    "        '''\n",
    "        Batch of texts\n",
    "        '''\n",
    "        return self.texts[indx]\n",
    "\n",
    "    def __getitem__(self,indx): \n",
    "        '''\n",
    "        Item with the labels and texts\n",
    "        '''\n",
    "        batch_y = self.get_batch_labels(indx)\n",
    "        batch_texts = self.get_batch_texts(indx)\n",
    "        \n",
    "        return batch_texts, batch_y"
   ]
  },
  {
   "cell_type": "code",
   "execution_count": 22,
   "id": "b6c39863",
   "metadata": {},
   "outputs": [],
   "source": [
    "# Build the model\n",
    "\n",
    "class BertClassifier(torch.nn.Module): \n",
    "    \n",
    "    def __init__(self): \n",
    "        super(BertClassifier,self).__init__()\n",
    "        \n",
    "        self.bert=BertModel.from_pretrained(\"bert-base-cased\")\n",
    "        self.dropout = torch.nn.Dropout(0.3)\n",
    "        self.linear = torch.nn.Linear(768,6) \n",
    "        \n",
    "    def forward(self,input_id,mask): \n",
    "        \n",
    "        _,pooler_output = self.bert(input_ids= input_id,attention_mask = mask,return_dict = False)\n",
    "        dropout_output = self.dropout(pooler_output)\n",
    "        linear_output  = self.linear(dropout_output)\n",
    "        \n",
    "        return linear_output"
   ]
  },
  {
   "cell_type": "code",
   "execution_count": 23,
   "id": "05c158fa",
   "metadata": {},
   "outputs": [],
   "source": [
    "# Train the model\n",
    "\n",
    "def train(model, train_data, valid_data, learning_rate, epochs=1):\n",
    "    \n",
    "    # Create custom data\n",
    "    train, valid = Dataset(train_data), Dataset(valid_data)\n",
    "    \n",
    "    # Create dataloaders\n",
    "    train_dataloader = torch.utils.data.DataLoader(train, batch_size=1, shuffle=True)\n",
    "    valid_dataloader = torch.utils.data.DataLoader(valid, batch_size=1)\n",
    "    \n",
    "    # Processor \n",
    "    device = torch.device(\"cpu\")\n",
    "    \n",
    "    # Loss\n",
    "    criterion = torch.nn.CrossEntropyLoss()\n",
    "    \n",
    "    # Optimizer\n",
    "    optimizer = torch.optim.Adam(model.parameters(), lr = learning_rate)\n",
    "   \n",
    "    for epoch_num in range(epochs):\n",
    "\n",
    "            total_acc_train = 0\n",
    "            total_loss_train = 0\n",
    "\n",
    "            for train_input, train_label in tqdm(train_dataloader):\n",
    "\n",
    "                train_label = train_label.to(device)\n",
    "                mask = train_input['attention_mask'].to(device)\n",
    "                input_id = train_input['input_ids'].squeeze(1).to(device)\n",
    "\n",
    "                output = model(input_id, mask) # Prediction\n",
    "                \n",
    "                # Get loss\n",
    "                batch_loss = criterion(output, train_label) \n",
    "                total_loss_train += batch_loss.item()\n",
    "                \n",
    "                # Get accuracry\n",
    "                acc = (output.argmax(dim=1) == train_label).sum().item()\n",
    "                total_acc_train += acc\n",
    "                \n",
    "                # Update the model\n",
    "                model.zero_grad()\n",
    "                batch_loss.backward()\n",
    "                optimizer.step()\n",
    "                \n",
    "            # Same procedure on the validation data\n",
    "            \n",
    "            total_acc_val = 0\n",
    "            total_loss_val = 0\n",
    "\n",
    "            with torch.no_grad():\n",
    "\n",
    "                for val_input, val_label in valid_dataloader:\n",
    "\n",
    "                    val_label = val_label.to(device)\n",
    "                    mask = val_input['attention_mask'].to(device)\n",
    "                    input_id = val_input['input_ids'].squeeze(1).to(device)\n",
    "\n",
    "                    output = model(input_id, mask)\n",
    "\n",
    "                    batch_loss = criterion(output, val_label)\n",
    "                    total_loss_val += batch_loss.item()\n",
    "                    \n",
    "                    acc = (output.argmax(dim=1) == val_label).sum().item()\n",
    "                    total_acc_val += acc\n",
    "            \n",
    "            print(f'Epochs: {epoch_num + 1} \\n\\\n",
    "Train loss: {total_loss_train / len(train_data):6f} \\n\\\n",
    "Train accuracy: {total_acc_train / len(train_data):6f} \\n\\\n",
    "Validation loss: {total_loss_val / len(valid_data):6f} \\n\\\n",
    "Validation accuracy: {total_acc_val / len(valid_data):6f}')"
   ]
  },
  {
   "cell_type": "code",
   "execution_count": 24,
   "id": "bc39da67",
   "metadata": {},
   "outputs": [
    {
     "name": "stderr",
     "output_type": "stream",
     "text": [
      "Some weights of the model checkpoint at bert-base-cased were not used when initializing BertModel: ['cls.predictions.transform.dense.bias', 'cls.seq_relationship.weight', 'cls.predictions.transform.LayerNorm.bias', 'cls.predictions.decoder.weight', 'cls.seq_relationship.bias', 'cls.predictions.transform.dense.weight', 'cls.predictions.bias', 'cls.predictions.transform.LayerNorm.weight']\n",
      "- This IS expected if you are initializing BertModel from the checkpoint of a model trained on another task or with another architecture (e.g. initializing a BertForSequenceClassification model from a BertForPreTraining model).\n",
      "- This IS NOT expected if you are initializing BertModel from the checkpoint of a model that you expect to be exactly identical (initializing a BertForSequenceClassification model from a BertForSequenceClassification model).\n",
      "100%|██████████| 4000/4000 [26:36:00<00:00, 23.94s/it]        \n"
     ]
    },
    {
     "name": "stdout",
     "output_type": "stream",
     "text": [
      "Epochs: 1 \n",
      "Train loss: 0.288873 \n",
      "Train accuracy: 0.925750 \n",
      "Validation loss: 0.029467 \n",
      "Validation accuracy: 0.996000\n"
     ]
    }
   ],
   "source": [
    "train(model = BertClassifier(), train_data = df_train, valid_data = df_valid, learning_rate = 1e-6, epochs = 1)"
   ]
  },
  {
   "cell_type": "code",
   "execution_count": 25,
   "id": "4e815a65",
   "metadata": {},
   "outputs": [],
   "source": [
    "# Evaluate model\n",
    "\n",
    "def evaluate(model, test_data):\n",
    "    \n",
    "    # Create custom data\n",
    "    test = Dataset(test_data)\n",
    "    \n",
    "    # Create dataloaders\n",
    "    test_dataloader = torch.utils.data.DataLoader(test, batch_size=1)\n",
    "\n",
    "    # Processor \n",
    "    device = torch.device(\"cpu\")\n",
    "\n",
    "    total_acc_test = 0\n",
    "    \n",
    "    with torch.no_grad():\n",
    "        \n",
    "        # Prediction and accurary computation\n",
    "        for test_input, test_label in tqdm(test_dataloader):\n",
    "\n",
    "              test_label = test_label.to(device)\n",
    "              mask = test_input['attention_mask'].to(device)\n",
    "              input_id = test_input['input_ids'].squeeze(1).to(device)\n",
    "\n",
    "              output = model(input_id, mask)\n",
    "\n",
    "              acc = (output.argmax(dim=1) == test_label).sum().item()\n",
    "              total_acc_test += acc\n",
    "    \n",
    "    print(f'Test Accuracy: {total_acc_test / len(test_data):6f}')"
   ]
  },
  {
   "cell_type": "code",
   "execution_count": 26,
   "id": "daac5be8",
   "metadata": {},
   "outputs": [
    {
     "name": "stderr",
     "output_type": "stream",
     "text": [
      "Some weights of the model checkpoint at bert-base-cased were not used when initializing BertModel: ['cls.predictions.transform.dense.bias', 'cls.seq_relationship.weight', 'cls.predictions.transform.LayerNorm.bias', 'cls.predictions.decoder.weight', 'cls.seq_relationship.bias', 'cls.predictions.transform.dense.weight', 'cls.predictions.bias', 'cls.predictions.transform.LayerNorm.weight']\n",
      "- This IS expected if you are initializing BertModel from the checkpoint of a model trained on another task or with another architecture (e.g. initializing a BertForSequenceClassification model from a BertForPreTraining model).\n",
      "- This IS NOT expected if you are initializing BertModel from the checkpoint of a model that you expect to be exactly identical (initializing a BertForSequenceClassification model from a BertForSequenceClassification model).\n",
      "100%|██████████| 500/500 [13:18<00:00,  1.60s/it]"
     ]
    },
    {
     "name": "stdout",
     "output_type": "stream",
     "text": [
      "Test Accuracy: 0.486000\n"
     ]
    },
    {
     "name": "stderr",
     "output_type": "stream",
     "text": [
      "\n"
     ]
    }
   ],
   "source": [
    "evaluate(model = BertClassifier(), test_data = df_test)"
   ]
  }
 ],
 "metadata": {
  "kernelspec": {
   "display_name": "Python 3",
   "language": "python",
   "name": "python3"
  },
  "language_info": {
   "codemirror_mode": {
    "name": "ipython",
    "version": 3
   },
   "file_extension": ".py",
   "mimetype": "text/x-python",
   "name": "python",
   "nbconvert_exporter": "python",
   "pygments_lexer": "ipython3",
   "version": "3.8.8"
  }
 },
 "nbformat": 4,
 "nbformat_minor": 5
}
