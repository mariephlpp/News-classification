{
 "cells": [
  {
   "cell_type": "markdown",
   "metadata": {},
   "source": [
    "# Long Short Term Memory (LSTM)"
   ]
  },
  {
   "cell_type": "markdown",
   "metadata": {},
   "source": [
    "## Deep learning projet "
   ]
  },
  {
   "cell_type": "markdown",
   "metadata": {},
   "source": [
    "## Marie PHILIPPE & Claire SERRAZ - M2 D3S"
   ]
  },
  {
   "cell_type": "markdown",
   "metadata": {},
   "source": [
    "# 1. Libraries"
   ]
  },
  {
   "cell_type": "code",
   "execution_count": 1,
   "metadata": {},
   "outputs": [],
   "source": [
    "# We may need to run these two lines if we don't have these libraries\n",
    "#!pip install tensorflow\n",
    "#!pip install gensim"
   ]
  },
  {
   "cell_type": "code",
   "execution_count": 2,
   "metadata": {},
   "outputs": [],
   "source": [
    "# We import some basic libraries\n",
    "import pandas as pd\n",
    "import numpy as np\n",
    "import os\n",
    "import matplotlib.pyplot as plt"
   ]
  },
  {
   "cell_type": "code",
   "execution_count": 3,
   "metadata": {},
   "outputs": [
    {
     "name": "stderr",
     "output_type": "stream",
     "text": [
      "[nltk_data] Downloading package stopwords to /Users/marie/nltk_data...\n",
      "[nltk_data]   Package stopwords is already up-to-date!\n"
     ]
    }
   ],
   "source": [
    "# We import some libraries to clean the text\n",
    "import nltk\n",
    "from nltk.corpus import stopwords\n",
    "from nltk import stem, WordNetLemmatizer\n",
    "nltk.download('stopwords')\n",
    "wnl = WordNetLemmatizer()"
   ]
  },
  {
   "cell_type": "code",
   "execution_count": 4,
   "metadata": {},
   "outputs": [],
   "source": [
    "# We import some libraries needed for the measures\n",
    "from sklearn.metrics import accuracy_score\n",
    "from sklearn import model_selection"
   ]
  },
  {
   "cell_type": "code",
   "execution_count": 5,
   "metadata": {},
   "outputs": [],
   "source": [
    "# We import some libraries from tensorflow\n",
    "import tensorflow as tf\n",
    "from tensorflow import keras\n",
    "from tensorflow.keras.models import Sequential, Model\n",
    "from tensorflow.keras.layers import Dense, Dropout, Activation, Bidirectional, LSTM, Input, Embedding\n",
    "from tensorflow.keras import regularizers\n",
    "from tensorflow.keras import optimizers\n",
    "\n",
    "from gensim.models import FastText\n",
    "from tensorflow.keras.preprocessing.text import Tokenizer\n",
    "from tensorflow.keras.preprocessing.sequence import pad_sequences"
   ]
  },
  {
   "cell_type": "markdown",
   "metadata": {},
   "source": [
    "# 2. Import and prepare the data"
   ]
  },
  {
   "cell_type": "code",
   "execution_count": 6,
   "metadata": {},
   "outputs": [],
   "source": [
    "# We choose the path\n",
    "\n",
    "# Path for Marie\n",
    "os.chdir(\"/Users/marie/Desktop/Cours/S1/DL/Project/Data\")\n",
    "\n",
    "# Path for Claire\n",
    "#os.chdir(\"C:/DESKTOP/Project Fake news\")"
   ]
  },
  {
   "cell_type": "code",
   "execution_count": 7,
   "metadata": {},
   "outputs": [
    {
     "data": {
      "text/html": [
       "<div>\n",
       "<style scoped>\n",
       "    .dataframe tbody tr th:only-of-type {\n",
       "        vertical-align: middle;\n",
       "    }\n",
       "\n",
       "    .dataframe tbody tr th {\n",
       "        vertical-align: top;\n",
       "    }\n",
       "\n",
       "    .dataframe thead th {\n",
       "        text-align: right;\n",
       "    }\n",
       "</style>\n",
       "<table border=\"1\" class=\"dataframe\">\n",
       "  <thead>\n",
       "    <tr style=\"text-align: right;\">\n",
       "      <th></th>\n",
       "      <th>title</th>\n",
       "      <th>text</th>\n",
       "      <th>subject</th>\n",
       "      <th>date</th>\n",
       "      <th>class</th>\n",
       "    </tr>\n",
       "  </thead>\n",
       "  <tbody>\n",
       "    <tr>\n",
       "      <th>0</th>\n",
       "      <td>donald trump sends embarrassing new year eve m...</td>\n",
       "      <td>donald trump wish american happy new year leav...</td>\n",
       "      <td>News</td>\n",
       "      <td>December 31, 2017</td>\n",
       "      <td>fake</td>\n",
       "    </tr>\n",
       "    <tr>\n",
       "      <th>1</th>\n",
       "      <td>drunk bragging trump staffer started russian c...</td>\n",
       "      <td>house intelligence committee chairman devin nu...</td>\n",
       "      <td>News</td>\n",
       "      <td>December 31, 2017</td>\n",
       "      <td>fake</td>\n",
       "    </tr>\n",
       "    <tr>\n",
       "      <th>2</th>\n",
       "      <td>sheriff david clarke becomes internet joke thr...</td>\n",
       "      <td>friday revealed former milwaukee sheriff david...</td>\n",
       "      <td>News</td>\n",
       "      <td>December 30, 2017</td>\n",
       "      <td>fake</td>\n",
       "    </tr>\n",
       "    <tr>\n",
       "      <th>3</th>\n",
       "      <td>trump obsessed even obama name coded website i...</td>\n",
       "      <td>christmas day donald trump announced would bac...</td>\n",
       "      <td>News</td>\n",
       "      <td>December 29, 2017</td>\n",
       "      <td>fake</td>\n",
       "    </tr>\n",
       "    <tr>\n",
       "      <th>4</th>\n",
       "      <td>pope francis called donald trump christmas speech</td>\n",
       "      <td>pope francis used annual christmas day message...</td>\n",
       "      <td>News</td>\n",
       "      <td>December 25, 2017</td>\n",
       "      <td>fake</td>\n",
       "    </tr>\n",
       "    <tr>\n",
       "      <th>...</th>\n",
       "      <td>...</td>\n",
       "      <td>...</td>\n",
       "      <td>...</td>\n",
       "      <td>...</td>\n",
       "      <td>...</td>\n",
       "    </tr>\n",
       "    <tr>\n",
       "      <th>44893</th>\n",
       "      <td>fully committed nato back new u approach afgha...</td>\n",
       "      <td>brussels reuters nato ally tuesday welcomed pr...</td>\n",
       "      <td>worldnews</td>\n",
       "      <td>August 22, 2017</td>\n",
       "      <td>true</td>\n",
       "    </tr>\n",
       "    <tr>\n",
       "      <th>44894</th>\n",
       "      <td>lexisnexis withdrew two product chinese market</td>\n",
       "      <td>london reuters lexisnexis provider legal regul...</td>\n",
       "      <td>worldnews</td>\n",
       "      <td>August 22, 2017</td>\n",
       "      <td>true</td>\n",
       "    </tr>\n",
       "    <tr>\n",
       "      <th>44895</th>\n",
       "      <td>minsk cultural hub becomes authority</td>\n",
       "      <td>minsk reuters shadow disused soviet-era factor...</td>\n",
       "      <td>worldnews</td>\n",
       "      <td>August 22, 2017</td>\n",
       "      <td>true</td>\n",
       "    </tr>\n",
       "    <tr>\n",
       "      <th>44896</th>\n",
       "      <td>vatican upbeat possibility pope francis visiti...</td>\n",
       "      <td>moscow reuters vatican secretary state cardina...</td>\n",
       "      <td>worldnews</td>\n",
       "      <td>August 22, 2017</td>\n",
       "      <td>true</td>\n",
       "    </tr>\n",
       "    <tr>\n",
       "      <th>44897</th>\n",
       "      <td>indonesia buy 1 14 billion worth russian jet</td>\n",
       "      <td>jakarta reuters indonesia buy 11 sukhoi fighte...</td>\n",
       "      <td>worldnews</td>\n",
       "      <td>August 22, 2017</td>\n",
       "      <td>true</td>\n",
       "    </tr>\n",
       "  </tbody>\n",
       "</table>\n",
       "<p>44898 rows × 5 columns</p>\n",
       "</div>"
      ],
      "text/plain": [
       "                                                   title  \\\n",
       "0      donald trump sends embarrassing new year eve m...   \n",
       "1      drunk bragging trump staffer started russian c...   \n",
       "2      sheriff david clarke becomes internet joke thr...   \n",
       "3      trump obsessed even obama name coded website i...   \n",
       "4      pope francis called donald trump christmas speech   \n",
       "...                                                  ...   \n",
       "44893  fully committed nato back new u approach afgha...   \n",
       "44894     lexisnexis withdrew two product chinese market   \n",
       "44895               minsk cultural hub becomes authority   \n",
       "44896  vatican upbeat possibility pope francis visiti...   \n",
       "44897       indonesia buy 1 14 billion worth russian jet   \n",
       "\n",
       "                                                    text    subject  \\\n",
       "0      donald trump wish american happy new year leav...       News   \n",
       "1      house intelligence committee chairman devin nu...       News   \n",
       "2      friday revealed former milwaukee sheriff david...       News   \n",
       "3      christmas day donald trump announced would bac...       News   \n",
       "4      pope francis used annual christmas day message...       News   \n",
       "...                                                  ...        ...   \n",
       "44893  brussels reuters nato ally tuesday welcomed pr...  worldnews   \n",
       "44894  london reuters lexisnexis provider legal regul...  worldnews   \n",
       "44895  minsk reuters shadow disused soviet-era factor...  worldnews   \n",
       "44896  moscow reuters vatican secretary state cardina...  worldnews   \n",
       "44897  jakarta reuters indonesia buy 11 sukhoi fighte...  worldnews   \n",
       "\n",
       "                    date class  \n",
       "0      December 31, 2017  fake  \n",
       "1      December 31, 2017  fake  \n",
       "2      December 30, 2017  fake  \n",
       "3      December 29, 2017  fake  \n",
       "4      December 25, 2017  fake  \n",
       "...                  ...   ...  \n",
       "44893   August 22, 2017   true  \n",
       "44894   August 22, 2017   true  \n",
       "44895   August 22, 2017   true  \n",
       "44896   August 22, 2017   true  \n",
       "44897   August 22, 2017   true  \n",
       "\n",
       "[44898 rows x 5 columns]"
      ]
     },
     "execution_count": 7,
     "metadata": {},
     "output_type": "execute_result"
    }
   ],
   "source": [
    "# We import the dataset\n",
    "\n",
    "data = pd.read_csv('data.csv')\n",
    "data = data.astype({\"text\": str, 'title':str})\n",
    "data"
   ]
  },
  {
   "cell_type": "code",
   "execution_count": 8,
   "metadata": {},
   "outputs": [],
   "source": []
  },
  {
   "cell_type": "markdown",
   "metadata": {},
   "source": [
    "# 3. LSTM Models"
   ]
  },
  {
   "cell_type": "markdown",
   "metadata": {},
   "source": [
    "###  Functions"
   ]
  },
  {
   "cell_type": "code",
   "execution_count": 9,
   "metadata": {},
   "outputs": [],
   "source": [
    "# We define a function to display loss and accuracy evolution during training\n",
    "def plot_history(hist):\n",
    "  plt.plot(hist.history['loss'], label='train')\n",
    "  plt.plot(hist.history['val_loss'], label='val')\n",
    "  plt.legend()\n",
    "  plt.ylim((0,1))\n",
    "  plt.title('Loss evolution')\n",
    "  plt.show()\n",
    "  plt.plot(hist.history['binary_accuracy'], label='train')\n",
    "  plt.plot(hist.history['val_binary_accuracy'], label='val')\n",
    "  plt.legend()\n",
    "  plt.ylim((0,1))\n",
    "  plt.title('Accuracy evolution')\n",
    "  plt.show()"
   ]
  },
  {
   "cell_type": "code",
   "execution_count": 10,
   "metadata": {},
   "outputs": [],
   "source": [
    "# We define function to evaluate model performances\n",
    "def model_evaluation(NN_model, x_test, y_test): \n",
    "  y_pred_proba = NN_model.predict(x_test, verbose=1)\n",
    "  y_pred = [1 if i >= 0.5 else 0 for i in y_pred_proba]\n",
    "  print('accuracy {}'.format(round(accuracy_score(y_test, y_pred), 4)))"
   ]
  },
  {
   "cell_type": "markdown",
   "metadata": {},
   "source": [
    "### LSTM without pre-trained embedding"
   ]
  },
  {
   "cell_type": "code",
   "execution_count": 11,
   "metadata": {},
   "outputs": [],
   "source": [
    "# We define our train and test sets\n",
    "X_train, X_test, y_train, y_test = model_selection.train_test_split(\n",
    "    data['text'], \n",
    "    data['class'], \n",
    "    test_size=0.20, \n",
    "    random_state=42)"
   ]
  },
  {
   "cell_type": "code",
   "execution_count": 12,
   "metadata": {},
   "outputs": [],
   "source": [
    "# We define some input parameters\n",
    "\n",
    "# VOCAB_SIZE is the maximum number of words take into account by the model \n",
    "VOCAB_SIZE = 10000\n",
    "# MAX_LENGTH is the maximum number of words per text review\n",
    "MAX_LENGTH = 100\n",
    "# EMBEDDING_DIM is the dimension of the embedding layer in the network\n",
    "EMBEDDING_DIM = 200\n",
    "# MODEL_OUTPUT_DIM is the number of class - 1\n",
    "MODEL_OUPUT_DIM = 1"
   ]
  },
  {
   "cell_type": "code",
   "execution_count": 13,
   "metadata": {},
   "outputs": [],
   "source": [
    "# Tokenizer transforms sequences of word into sequences of index\n",
    "tokenizer = Tokenizer(num_words=VOCAB_SIZE, filters='!\"#$%&()*+,.:;<=>?@[\\\\]^_`{|}~\\t\\n')\n",
    "\n",
    "# We fit it on the X train set\n",
    "tokenizer.fit_on_texts(X_train)\n",
    "\n",
    "# We then vectorize the X train set\n",
    "X_train = tokenizer.texts_to_sequences(X_train)\n",
    "X_train = pad_sequences(X_train, maxlen=MAX_LENGTH, padding='post', truncating='post')\n",
    "\n",
    "# We then vectorize the X test set\n",
    "X_test = tokenizer.texts_to_sequences(X_test) \n",
    "X_test = pad_sequences(X_test, maxlen=MAX_LENGTH, padding='post', truncating='post')\n",
    "\n",
    "# We set out-of index vocabulary to 0\n",
    "X_train[X_train >= VOCAB_SIZE] = 0\n",
    "X_test[X_test >= VOCAB_SIZE] = 0 "
   ]
  },
  {
   "cell_type": "code",
   "execution_count": 14,
   "metadata": {},
   "outputs": [],
   "source": [
    "# We create a function that take as input the number of class, the size of the vocabulary, \n",
    "# the maximum length and the embedding dimension, and from that create a lstm model\n",
    "\n",
    "# The Embedding layer is initialized with random weights \n",
    "# and will learn an embedding for all of the words in the training dataset.\n",
    "\n",
    "def build_lstm_model(nb_class, voc_size, max_length, embedding_dim):\n",
    "\n",
    "    inp = Input(shape=(max_length, ))\n",
    "\n",
    "    x = Embedding(input_dim=voc_size,\n",
    "                  output_dim=embedding_dim,\n",
    "                  input_length=max_length,\n",
    "                  trainable=True)(inp)\n",
    "\n",
    "    x = Bidirectional(LSTM(128))(x)\n",
    "    out = Dense(nb_class, activation='sigmoid', name='output')(x)\n",
    "\n",
    "    model = Model(inputs=inp, outputs=out)\n",
    "    opt = optimizers.Adam(lr=0.005)\n",
    "    model.compile(optimizer=opt, loss='binary_crossentropy', metrics=['binary_accuracy'])\n",
    "\n",
    "    return model"
   ]
  },
  {
   "cell_type": "code",
   "execution_count": 15,
   "metadata": {},
   "outputs": [
    {
     "name": "stderr",
     "output_type": "stream",
     "text": [
      "/Users/marie/opt/anaconda3/lib/python3.8/site-packages/keras/optimizer_v2/adam.py:105: UserWarning: The `lr` argument is deprecated, use `learning_rate` instead.\n",
      "  super(Adam, self).__init__(name, **kwargs)\n"
     ]
    }
   ],
   "source": [
    "# We apply it with the parameters we fixed earlier\n",
    "\n",
    "lstm_model = build_lstm_model(\n",
    "    MODEL_OUPUT_DIM, \n",
    "    VOCAB_SIZE,\n",
    "    MAX_LENGTH,\n",
    "    EMBEDDING_DIM)"
   ]
  },
  {
   "cell_type": "code",
   "execution_count": 16,
   "metadata": {},
   "outputs": [
    {
     "name": "stdout",
     "output_type": "stream",
     "text": [
      "Epoch 1/2\n",
      "32/32 [==============================] - 169s 5s/step - loss: 0.1948 - binary_accuracy: 0.9233 - val_loss: 0.0286 - val_binary_accuracy: 0.9897\n",
      "Epoch 2/2\n",
      "32/32 [==============================] - 153s 5s/step - loss: 0.0089 - binary_accuracy: 0.9977 - val_loss: 0.0094 - val_binary_accuracy: 0.9969\n"
     ]
    }
   ],
   "source": [
    "history = lstm_model.fit(\n",
    "    X_train,\n",
    "    y_train.values,\n",
    "    epochs=2,\n",
    "    batch_size=1024,\n",
    "    verbose=1,\n",
    "    validation_split=0.1\n",
    "    )"
   ]
  },
  {
   "cell_type": "code",
   "execution_count": 17,
   "metadata": {},
   "outputs": [
    {
     "data": {
      "image/png": "[encoded data removed]",
      "text/plain": [
       "<Figure size 432x288 with 1 Axes>"
      ]
     },
     "metadata": {
      "needs_background": "light"
     },
     "output_type": "display_data"
    },
    {
     "data": {
      "image/png": "[encoded data removed]",
      "text/plain": [
       "<Figure size 432x288 with 1 Axes>"
      ]
     },
     "metadata": {
      "needs_background": "light"
     },
     "output_type": "display_data"
    },
    {
     "name": "stdout",
     "output_type": "stream",
     "text": [
      "281/281 [==============================] - 19s 66ms/step\n",
      "accuracy 0.998\n"
     ]
    }
   ],
   "source": [
    "plot_history(history)\n",
    "model_evaluation(NN_model=lstm_model, x_test=X_test, y_test=y_test)"
   ]
  }
 ],
 "metadata": {
  "kernelspec": {
   "display_name": "Python 3",
   "language": "python",
   "name": "python3"
  },
  "language_info": {
   "codemirror_mode": {
    "name": "ipython",
    "version": 3
   },
   "file_extension": ".py",
   "mimetype": "text/x-python",
   "name": "python",
   "nbconvert_exporter": "python",
   "pygments_lexer": "ipython3",
   "version": "3.8.8"
  }
 },
 "nbformat": 4,
 "nbformat_minor": 2
}
