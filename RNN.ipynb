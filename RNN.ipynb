{
 "cells": [
  {
   "cell_type": "markdown",
   "metadata": {},
   "source": [
    "# RNN"
   ]
  },
  {
   "cell_type": "markdown",
   "metadata": {},
   "source": [
    "## Deep learning project"
   ]
  },
  {
   "cell_type": "markdown",
   "metadata": {},
   "source": [
    "## Marie Philippe & Claire Serraz - M2 D3S"
   ]
  },
  {
   "cell_type": "markdown",
   "metadata": {},
   "source": [
    "# 1. Libraries"
   ]
  },
  {
   "cell_type": "code",
   "execution_count": 1,
   "metadata": {},
   "outputs": [],
   "source": [
    "import pandas as pd \n",
    "import os\n",
    "import matplotlib.pyplot as plt \n",
    "import numpy as np "
   ]
  },
  {
   "cell_type": "code",
   "execution_count": 2,
   "metadata": {},
   "outputs": [],
   "source": [
    "from sklearn.metrics import accuracy_score, confusion_matrix, precision_score, recall_score"
   ]
  },
  {
   "cell_type": "code",
   "execution_count": 3,
   "metadata": {},
   "outputs": [],
   "source": [
    "import tensorflow as tf \n",
    "from keras.layers import Input, Dense, LSTM, Embedding\n",
    "from keras.layers import Dropout, Activation, Bidirectional, GlobalMaxPool1D\n",
    "from keras.models import Sequential\n",
    "from tensorflow.keras.preprocessing.text import Tokenizer"
   ]
  },
  {
   "cell_type": "markdown",
   "metadata": {},
   "source": [
    "# 2. Import data"
   ]
  },
  {
   "cell_type": "code",
   "execution_count": 4,
   "metadata": {},
   "outputs": [],
   "source": [
    "# Choose the path\n",
    "\n",
    "# Marie\n",
    "os.chdir(\"/Users/marie/Desktop/Cours/S1/DL/Project/Data\")"
   ]
  },
  {
   "cell_type": "code",
   "execution_count": 5,
   "metadata": {},
   "outputs": [
    {
     "data": {
      "text/html": [
       "<div>\n",
       "<style scoped>\n",
       "    .dataframe tbody tr th:only-of-type {\n",
       "        vertical-align: middle;\n",
       "    }\n",
       "\n",
       "    .dataframe tbody tr th {\n",
       "        vertical-align: top;\n",
       "    }\n",
       "\n",
       "    .dataframe thead th {\n",
       "        text-align: right;\n",
       "    }\n",
       "</style>\n",
       "<table border=\"1\" class=\"dataframe\">\n",
       "  <thead>\n",
       "    <tr style=\"text-align: right;\">\n",
       "      <th></th>\n",
       "      <th>title</th>\n",
       "      <th>text</th>\n",
       "      <th>subject</th>\n",
       "      <th>date</th>\n",
       "      <th>class</th>\n",
       "    </tr>\n",
       "  </thead>\n",
       "  <tbody>\n",
       "    <tr>\n",
       "      <th>0</th>\n",
       "      <td>donald trump sends embarrassing new year eve m...</td>\n",
       "      <td>donald trump wish american happy new year leav...</td>\n",
       "      <td>News</td>\n",
       "      <td>December 31, 2017</td>\n",
       "      <td>fake</td>\n",
       "    </tr>\n",
       "    <tr>\n",
       "      <th>1</th>\n",
       "      <td>drunk bragging trump staffer started russian c...</td>\n",
       "      <td>house intelligence committee chairman devin nu...</td>\n",
       "      <td>News</td>\n",
       "      <td>December 31, 2017</td>\n",
       "      <td>fake</td>\n",
       "    </tr>\n",
       "    <tr>\n",
       "      <th>2</th>\n",
       "      <td>sheriff david clarke becomes internet joke thr...</td>\n",
       "      <td>friday revealed former milwaukee sheriff david...</td>\n",
       "      <td>News</td>\n",
       "      <td>December 30, 2017</td>\n",
       "      <td>fake</td>\n",
       "    </tr>\n",
       "    <tr>\n",
       "      <th>3</th>\n",
       "      <td>trump obsessed even obama name coded website i...</td>\n",
       "      <td>christmas day donald trump announced would bac...</td>\n",
       "      <td>News</td>\n",
       "      <td>December 29, 2017</td>\n",
       "      <td>fake</td>\n",
       "    </tr>\n",
       "    <tr>\n",
       "      <th>4</th>\n",
       "      <td>pope francis called donald trump christmas speech</td>\n",
       "      <td>pope francis used annual christmas day message...</td>\n",
       "      <td>News</td>\n",
       "      <td>December 25, 2017</td>\n",
       "      <td>fake</td>\n",
       "    </tr>\n",
       "    <tr>\n",
       "      <th>...</th>\n",
       "      <td>...</td>\n",
       "      <td>...</td>\n",
       "      <td>...</td>\n",
       "      <td>...</td>\n",
       "      <td>...</td>\n",
       "    </tr>\n",
       "    <tr>\n",
       "      <th>44893</th>\n",
       "      <td>fully committed nato back new u approach afgha...</td>\n",
       "      <td>brussels reuters nato ally tuesday welcomed pr...</td>\n",
       "      <td>worldnews</td>\n",
       "      <td>August 22, 2017</td>\n",
       "      <td>true</td>\n",
       "    </tr>\n",
       "    <tr>\n",
       "      <th>44894</th>\n",
       "      <td>lexisnexis withdrew two product chinese market</td>\n",
       "      <td>london reuters lexisnexis provider legal regul...</td>\n",
       "      <td>worldnews</td>\n",
       "      <td>August 22, 2017</td>\n",
       "      <td>true</td>\n",
       "    </tr>\n",
       "    <tr>\n",
       "      <th>44895</th>\n",
       "      <td>minsk cultural hub becomes authority</td>\n",
       "      <td>minsk reuters shadow disused soviet-era factor...</td>\n",
       "      <td>worldnews</td>\n",
       "      <td>August 22, 2017</td>\n",
       "      <td>true</td>\n",
       "    </tr>\n",
       "    <tr>\n",
       "      <th>44896</th>\n",
       "      <td>vatican upbeat possibility pope francis visiti...</td>\n",
       "      <td>moscow reuters vatican secretary state cardina...</td>\n",
       "      <td>worldnews</td>\n",
       "      <td>August 22, 2017</td>\n",
       "      <td>true</td>\n",
       "    </tr>\n",
       "    <tr>\n",
       "      <th>44897</th>\n",
       "      <td>indonesia buy 1 14 billion worth russian jet</td>\n",
       "      <td>jakarta reuters indonesia buy 11 sukhoi fighte...</td>\n",
       "      <td>worldnews</td>\n",
       "      <td>August 22, 2017</td>\n",
       "      <td>true</td>\n",
       "    </tr>\n",
       "  </tbody>\n",
       "</table>\n",
       "<p>44898 rows × 5 columns</p>\n",
       "</div>"
      ],
      "text/plain": [
       "                                                   title  \\\n",
       "0      donald trump sends embarrassing new year eve m...   \n",
       "1      drunk bragging trump staffer started russian c...   \n",
       "2      sheriff david clarke becomes internet joke thr...   \n",
       "3      trump obsessed even obama name coded website i...   \n",
       "4      pope francis called donald trump christmas speech   \n",
       "...                                                  ...   \n",
       "44893  fully committed nato back new u approach afgha...   \n",
       "44894     lexisnexis withdrew two product chinese market   \n",
       "44895               minsk cultural hub becomes authority   \n",
       "44896  vatican upbeat possibility pope francis visiti...   \n",
       "44897       indonesia buy 1 14 billion worth russian jet   \n",
       "\n",
       "                                                    text    subject  \\\n",
       "0      donald trump wish american happy new year leav...       News   \n",
       "1      house intelligence committee chairman devin nu...       News   \n",
       "2      friday revealed former milwaukee sheriff david...       News   \n",
       "3      christmas day donald trump announced would bac...       News   \n",
       "4      pope francis used annual christmas day message...       News   \n",
       "...                                                  ...        ...   \n",
       "44893  brussels reuters nato ally tuesday welcomed pr...  worldnews   \n",
       "44894  london reuters lexisnexis provider legal regul...  worldnews   \n",
       "44895  minsk reuters shadow disused soviet-era factor...  worldnews   \n",
       "44896  moscow reuters vatican secretary state cardina...  worldnews   \n",
       "44897  jakarta reuters indonesia buy 11 sukhoi fighte...  worldnews   \n",
       "\n",
       "                    date class  \n",
       "0      December 31, 2017  fake  \n",
       "1      December 31, 2017  fake  \n",
       "2      December 30, 2017  fake  \n",
       "3      December 29, 2017  fake  \n",
       "4      December 25, 2017  fake  \n",
       "...                  ...   ...  \n",
       "44893   August 22, 2017   true  \n",
       "44894   August 22, 2017   true  \n",
       "44895   August 22, 2017   true  \n",
       "44896   August 22, 2017   true  \n",
       "44897   August 22, 2017   true  \n",
       "\n",
       "[44898 rows x 5 columns]"
      ]
     },
     "execution_count": 5,
     "metadata": {},
     "output_type": "execute_result"
    }
   ],
   "source": [
    "df = pd.read_csv('data.csv')\n",
    "df = df.astype({\"text\": str, 'title':str})\n",
    "df"
   ]
  },
  {
   "cell_type": "code",
   "execution_count": 6,
   "metadata": {},
   "outputs": [],
   "source": [
    "# Coding class\n",
    "df['class'] = df['class'].replace(['fake'],0)\n",
    "df['class'] = df['class'].replace(['true'],1)"
   ]
  },
  {
   "cell_type": "markdown",
   "metadata": {},
   "source": [
    "# 3. Define the datasets"
   ]
  },
  {
   "cell_type": "code",
   "execution_count": 7,
   "metadata": {},
   "outputs": [],
   "source": [
    "# Define the train, validation and test data\n",
    "train, valid, test = np.split(df.sample(frac=1,random_state=10),[int(.8*len(df)), int(.9*len(df))])"
   ]
  },
  {
   "cell_type": "code",
   "execution_count": 8,
   "metadata": {},
   "outputs": [],
   "source": [
    "X_train = train['title']+train['text']\n",
    "X_test = test['title']+test['text']\n",
    "X_valid = valid['title']+valid['text']\n",
    "\n",
    "y_train = train['class']\n",
    "y_test = test['class']\n",
    "y_valid = valid['class']"
   ]
  },
  {
   "cell_type": "markdown",
   "metadata": {},
   "source": [
    "# 4. Tokenize the text"
   ]
  },
  {
   "cell_type": "code",
   "execution_count": 9,
   "metadata": {},
   "outputs": [],
   "source": [
    "tokenizer = Tokenizer(num_words=20000)\n",
    "tokenizer.fit_on_texts(X_train)"
   ]
  },
  {
   "cell_type": "code",
   "execution_count": 10,
   "metadata": {},
   "outputs": [],
   "source": [
    "X_train = tokenizer.texts_to_sequences(X_train)\n",
    "X_test = tokenizer.texts_to_sequences(X_test)\n",
    "X_valid = tokenizer.texts_to_sequences(X_valid)"
   ]
  },
  {
   "cell_type": "code",
   "execution_count": 11,
   "metadata": {},
   "outputs": [],
   "source": [
    "X_train = tf.keras.preprocessing.sequence.pad_sequences(X_train, maxlen=256)\n",
    "X_test = tf.keras.preprocessing.sequence.pad_sequences(X_test, maxlen=256)\n",
    "X_valid = tf.keras.preprocessing.sequence.pad_sequences(X_valid, maxlen=256)"
   ]
  },
  {
   "cell_type": "markdown",
   "metadata": {},
   "source": [
    "# 5. Model"
   ]
  },
  {
   "cell_type": "code",
   "execution_count": 12,
   "metadata": {},
   "outputs": [],
   "source": [
    "model = Sequential()\n",
    "\n",
    "model.add(Embedding(20000, 128))\n",
    "model.add(Bidirectional(LSTM(25, return_sequences=True)))\n",
    "model.add(GlobalMaxPool1D())\n",
    "model.add(Dropout(0.5))\n",
    "model.add(Dense(50, activation='relu'))\n",
    "model.add(Dropout(0.5))\n",
    "model.add(Dense(1))"
   ]
  },
  {
   "cell_type": "code",
   "execution_count": 13,
   "metadata": {},
   "outputs": [],
   "source": [
    "model.compile(loss=tf.keras.losses.BinaryCrossentropy(from_logits=True),\n",
    "              optimizer=tf.keras.optimizers.Adam(1e-4),\n",
    "              metrics=['accuracy'])"
   ]
  },
  {
   "cell_type": "markdown",
   "metadata": {},
   "source": [
    "# 6. Validate the model with train and validation sets"
   ]
  },
  {
   "cell_type": "code",
   "execution_count": 14,
   "metadata": {},
   "outputs": [
    {
     "name": "stdout",
     "output_type": "stream",
     "text": [
      "Epoch 1/5\n",
      "1123/1123 [==============================] - 340s 296ms/step - loss: 0.3699 - accuracy: 0.7822 - val_loss: 0.0841 - val_accuracy: 0.9639\n",
      "Epoch 2/5\n",
      "1123/1123 [==============================] - 328s 292ms/step - loss: 0.0944 - accuracy: 0.9702 - val_loss: 0.0522 - val_accuracy: 0.9793\n",
      "Epoch 3/5\n",
      "1123/1123 [==============================] - 258s 230ms/step - loss: 0.0625 - accuracy: 0.9816 - val_loss: 0.0440 - val_accuracy: 0.9800\n",
      "Epoch 4/5\n",
      "1123/1123 [==============================] - 352s 314ms/step - loss: 0.0389 - accuracy: 0.9895 - val_loss: 0.0246 - val_accuracy: 0.9913\n",
      "Epoch 5/5\n",
      "1123/1123 [==============================] - 312s 278ms/step - loss: 0.0231 - accuracy: 0.9939 - val_loss: 0.0251 - val_accuracy: 0.9915\n"
     ]
    }
   ],
   "source": [
    "# Validate the model\n",
    "history = model.fit(X_train, y_train, epochs=5, validation_data=(X_valid, y_valid), batch_size=32)"
   ]
  },
  {
   "cell_type": "code",
   "execution_count": 15,
   "metadata": {},
   "outputs": [
    {
     "name": "stdout",
     "output_type": "stream",
     "text": [
      "Train loss: 0.009045502170920372\n",
      "Train accuracy: 0.9977726936340332\n"
     ]
    }
   ],
   "source": [
    "# We print the loss and the accuracy for the train set\n",
    "score2 = model.evaluate(X_train, y_train, verbose=0)\n",
    "print('Train loss:', score2[0])\n",
    "print('Train accuracy:', score2[1])"
   ]
  },
  {
   "cell_type": "code",
   "execution_count": 16,
   "metadata": {},
   "outputs": [
    {
     "name": "stdout",
     "output_type": "stream",
     "text": [
      "Test loss: 0.025125985965132713\n",
      "Test accuracy: 0.9915367364883423\n"
     ]
    }
   ],
   "source": [
    "# We print the loss and the accuracy for the validation set\n",
    "score = model.evaluate(X_valid, y_valid, verbose=0)\n",
    "print('Test loss:', score[0])\n",
    "print('Test accuracy:', score[1])"
   ]
  },
  {
   "cell_type": "code",
   "execution_count": 17,
   "metadata": {},
   "outputs": [],
   "source": [
    "# We define a function to display loss and accuracy evolution during training\n",
    "def plot_history(hist):\n",
    "  plt.plot(hist.history['loss'], label='train')\n",
    "  plt.plot(hist.history['val_loss'], label='val')\n",
    "  plt.legend()\n",
    "  plt.ylim((0,1))\n",
    "  plt.title('Loss evolution')\n",
    "  plt.show()\n",
    "  plt.plot(hist.history['accuracy'], label='train')\n",
    "  plt.plot(hist.history['val_accuracy'], label='val')\n",
    "  plt.legend()\n",
    "  plt.ylim((0,1))\n",
    "  plt.title('Accuracy evolution')\n",
    "  plt.show()"
   ]
  },
  {
   "cell_type": "code",
   "execution_count": 18,
   "metadata": {},
   "outputs": [
    {
     "data": {
      "image/png": "[encoded data removed]",
      "text/plain": [
       "<Figure size 432x288 with 1 Axes>"
      ]
     },
     "metadata": {
      "needs_background": "light"
     },
     "output_type": "display_data"
    },
    {
     "data": {
      "image/png": "[encoded data removed]",
      "text/plain": [
       "<Figure size 432x288 with 1 Axes>"
      ]
     },
     "metadata": {
      "needs_background": "light"
     },
     "output_type": "display_data"
    }
   ],
   "source": [
    "plot_history(history)"
   ]
  },
  {
   "cell_type": "markdown",
   "metadata": {},
   "source": [
    "# 7. Classification"
   ]
  },
  {
   "cell_type": "code",
   "execution_count": 20,
   "metadata": {},
   "outputs": [
    {
     "name": "stdout",
     "output_type": "stream",
     "text": [
      "Epoch 1/5\n",
      "1123/1123 [==============================] - 292s 260ms/step - loss: 0.0167 - accuracy: 0.9956 - val_loss: 0.0393 - val_accuracy: 0.9902\n",
      "Epoch 2/5\n",
      "1123/1123 [==============================] - 284s 253ms/step - loss: 0.0125 - accuracy: 0.9972 - val_loss: 0.0354 - val_accuracy: 0.9920\n",
      "Epoch 3/5\n",
      "1123/1123 [==============================] - 287s 256ms/step - loss: 0.0088 - accuracy: 0.9982 - val_loss: 0.0518 - val_accuracy: 0.9882\n",
      "Epoch 4/5\n",
      "1123/1123 [==============================] - 308s 274ms/step - loss: 0.0086 - accuracy: 0.9981 - val_loss: 0.0523 - val_accuracy: 0.9900\n",
      "Epoch 5/5\n",
      "1123/1123 [==============================] - 294s 262ms/step - loss: 0.0049 - accuracy: 0.9988 - val_loss: 0.0476 - val_accuracy: 0.9898\n"
     ]
    }
   ],
   "source": [
    "# We train our model\n",
    "prediction = model.fit(X_train, y_train, epochs=5, validation_data=(X_test, y_test), batch_size=32)"
   ]
  },
  {
   "cell_type": "code",
   "execution_count": 21,
   "metadata": {},
   "outputs": [
    {
     "data": {
      "image/png": "[encoded data removed]",
      "text/plain": [
       "<Figure size 432x288 with 1 Axes>"
      ]
     },
     "metadata": {
      "needs_background": "light"
     },
     "output_type": "display_data"
    },
    {
     "data": {
      "image/png": "[encoded data removed]",
      "text/plain": [
       "<Figure size 432x288 with 1 Axes>"
      ]
     },
     "metadata": {
      "needs_background": "light"
     },
     "output_type": "display_data"
    }
   ],
   "source": [
    "plot_history(prediction)"
   ]
  },
  {
   "cell_type": "code",
   "execution_count": 22,
   "metadata": {},
   "outputs": [],
   "source": [
    "pred = model.predict(X_test)"
   ]
  },
  {
   "cell_type": "code",
   "execution_count": 23,
   "metadata": {},
   "outputs": [],
   "source": [
    "predictions = []\n",
    "\n",
    "for i in pred:\n",
    "    if i >= 0.5:\n",
    "        predictions.append(1)\n",
    "    else:\n",
    "        predictions.append(0) "
   ]
  },
  {
   "cell_type": "code",
   "execution_count": 24,
   "metadata": {},
   "outputs": [
    {
     "name": "stdout",
     "output_type": "stream",
     "text": [
      "Accuracy on the tes set: 0.9897550111358575\n",
      "Precision on the test set: 0.985040797824116\n",
      "Recall on the test set: 0.994053064958829\n"
     ]
    }
   ],
   "source": [
    "print('Accuracy on the tes set:', accuracy_score(predictions, y_test))\n",
    "print('Precision on the test set:', precision_score(predictions, y_test))\n",
    "print('Recall on the test set:', recall_score(predictions, y_test))"
   ]
  }
 ],
 "metadata": {
  "accelerator": "GPU",
  "colab": {
   "collapsed_sections": [],
   "name": "text_classification_rnn.ipynb",
   "provenance": [],
   "toc_visible": true
  },
  "kernelspec": {
   "display_name": "Python 3",
   "language": "python",
   "name": "python3"
  },
  "language_info": {
   "codemirror_mode": {
    "name": "ipython",
    "version": 3
   },
   "file_extension": ".py",
   "mimetype": "text/x-python",
   "name": "python",
   "nbconvert_exporter": "python",
   "pygments_lexer": "ipython3",
   "version": "3.8.8"
  }
 },
 "nbformat": 4,
 "nbformat_minor": 1
}
